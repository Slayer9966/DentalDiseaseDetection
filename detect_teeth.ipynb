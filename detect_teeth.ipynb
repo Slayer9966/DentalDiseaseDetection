{
 "cells": [
  {
   "cell_type": "code",
   "execution_count": 3,
   "id": "c242311a-c927-4e21-9c1a-b1d216b49335",
   "metadata": {},
   "outputs": [],
   "source": [
    "import cv2\n",
    "import IPython.display as display\n",
    "from PIL import Image\n",
    "import numpy as np\n",
    "from ultralytics import YOLO"
   ]
  },
  {
   "cell_type": "code",
   "execution_count": 5,
   "id": "9a7652f0-4774-475b-b703-e4057b0cc2fc",
   "metadata": {},
   "outputs": [
    {
     "name": "stdout",
     "output_type": "stream",
     "text": [
      "\n",
      "0: 448x640 1 caries, 89.2ms\n",
      "Speed: 5.6ms preprocess, 89.2ms inference, 311.3ms postprocess per image at shape (1, 3, 448, 640)\n",
      "Detection complete! Processed image saved as output.jpg\n"
     ]
    }
   ],
   "source": [
    "model = YOLO(\"best.pt\")  # Ensure best.pt is in the correct path\n",
    "\n",
    "# Input and output image paths\n",
    "input_image_path = \"im.jpeg\"  # Change this to your image file name\n",
    "output_image_path = \"output.jpg\"\n",
    "\n",
    "# Read image\n",
    "image = cv2.imread(input_image_path)\n",
    "if image is None:\n",
    "    raise ValueError(\"Image not found. Check the file path.\")\n",
    "\n",
    "# Run YOLO detection\n",
    "results = model(image)\n",
    "\n",
    "# Annotate image\n",
    "annotated_image = results[0].plot()\n",
    "\n",
    "# Save output image\n",
    "cv2.imwrite(output_image_path, annotated_image)\n",
    "\n",
    "print(f\"Detection complete! Processed image saved as {output_image_path}\")"
   ]
  },
  {
   "cell_type": "code",
   "execution_count": null,
   "id": "3fbea165-986e-4c8a-926f-23ae5f501787",
   "metadata": {},
   "outputs": [],
   "source": []
  }
 ],
 "metadata": {
  "kernelspec": {
   "display_name": "Python [conda env:base] *",
   "language": "python",
   "name": "conda-base-py"
  },
  "language_info": {
   "codemirror_mode": {
    "name": "ipython",
    "version": 3
   },
   "file_extension": ".py",
   "mimetype": "text/x-python",
   "name": "python",
   "nbconvert_exporter": "python",
   "pygments_lexer": "ipython3",
   "version": "3.12.7"
  }
 },
 "nbformat": 4,
 "nbformat_minor": 5
}
